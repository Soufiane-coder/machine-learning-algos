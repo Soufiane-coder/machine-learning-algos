{
 "cells": [
  {
   "cell_type": "markdown",
   "id": "f1738377",
   "metadata": {},
   "source": [
    "# Linear Regression"
   ]
  },
  {
   "cell_type": "markdown",
   "id": "69b19529",
   "metadata": {
    "pycharm": {
     "name": "#%% md\n"
    }
   },
   "source": [
    "## Goals\n",
    "In this lab you will:\n",
    "- Learn to implement implement machine learning library as sklearn to get linear regression model\n",
    "- using data libraries to clean setup the data\n",
    "- visualise the data"
   ]
  },
  {
   "cell_type": "markdown",
   "id": "3d49c2dd",
   "metadata": {
    "pycharm": {
     "name": "#%% md\n"
    }
   },
   "source": [
    "## Tools\n",
    "In this lab you will make use of: \n",
    "- NumPy, pandas, popular library for scientific computing\n",
    "- Matplotlib, a popular library for plotting data"
   ]
  },
  {
   "cell_type": "code",
   "execution_count": 90,
   "id": "0795738c",
   "metadata": {
    "pycharm": {
     "name": "#%%\n"
    }
   },
   "outputs": [],
   "source": [
    "import pandas as pd\n",
    "import numpy as np\n",
    "import matplotlib.pyplot as plt\n",
    "from sklearn.linear_model import LinearRegression\n",
    "from sklearn.model_selection import train_test_split"
   ]
  },
  {
   "cell_type": "markdown",
   "id": "eb2e0bf7",
   "metadata": {},
   "source": [
    "Load the dataset and separate input and Target variables"
   ]
  },
  {
   "cell_type": "code",
   "execution_count": 91,
   "id": "bafa5358",
   "metadata": {},
   "outputs": [
    {
     "data": {
      "text/html": [
       "<div>\n",
       "<style scoped>\n",
       "    .dataframe tbody tr th:only-of-type {\n",
       "        vertical-align: middle;\n",
       "    }\n",
       "\n",
       "    .dataframe tbody tr th {\n",
       "        vertical-align: top;\n",
       "    }\n",
       "\n",
       "    .dataframe thead th {\n",
       "        text-align: right;\n",
       "    }\n",
       "</style>\n",
       "<table border=\"1\" class=\"dataframe\">\n",
       "  <thead>\n",
       "    <tr style=\"text-align: right;\">\n",
       "      <th></th>\n",
       "      <th>x</th>\n",
       "      <th>y</th>\n",
       "    </tr>\n",
       "  </thead>\n",
       "  <tbody>\n",
       "    <tr>\n",
       "      <th>0</th>\n",
       "      <td>24.0</td>\n",
       "      <td>21.549452</td>\n",
       "    </tr>\n",
       "    <tr>\n",
       "      <th>1</th>\n",
       "      <td>50.0</td>\n",
       "      <td>47.464463</td>\n",
       "    </tr>\n",
       "    <tr>\n",
       "      <th>2</th>\n",
       "      <td>15.0</td>\n",
       "      <td>17.218656</td>\n",
       "    </tr>\n",
       "    <tr>\n",
       "      <th>3</th>\n",
       "      <td>38.0</td>\n",
       "      <td>36.586398</td>\n",
       "    </tr>\n",
       "    <tr>\n",
       "      <th>4</th>\n",
       "      <td>87.0</td>\n",
       "      <td>87.288984</td>\n",
       "    </tr>\n",
       "    <tr>\n",
       "      <th>...</th>\n",
       "      <td>...</td>\n",
       "      <td>...</td>\n",
       "    </tr>\n",
       "    <tr>\n",
       "      <th>695</th>\n",
       "      <td>58.0</td>\n",
       "      <td>58.595006</td>\n",
       "    </tr>\n",
       "    <tr>\n",
       "      <th>696</th>\n",
       "      <td>93.0</td>\n",
       "      <td>94.625094</td>\n",
       "    </tr>\n",
       "    <tr>\n",
       "      <th>697</th>\n",
       "      <td>82.0</td>\n",
       "      <td>88.603770</td>\n",
       "    </tr>\n",
       "    <tr>\n",
       "      <th>698</th>\n",
       "      <td>66.0</td>\n",
       "      <td>63.648685</td>\n",
       "    </tr>\n",
       "    <tr>\n",
       "      <th>699</th>\n",
       "      <td>97.0</td>\n",
       "      <td>94.975266</td>\n",
       "    </tr>\n",
       "  </tbody>\n",
       "</table>\n",
       "<p>700 rows × 2 columns</p>\n",
       "</div>"
      ],
      "text/plain": [
       "        x          y\n",
       "0    24.0  21.549452\n",
       "1    50.0  47.464463\n",
       "2    15.0  17.218656\n",
       "3    38.0  36.586398\n",
       "4    87.0  87.288984\n",
       "..    ...        ...\n",
       "695  58.0  58.595006\n",
       "696  93.0  94.625094\n",
       "697  82.0  88.603770\n",
       "698  66.0  63.648685\n",
       "699  97.0  94.975266\n",
       "\n",
       "[700 rows x 2 columns]"
      ]
     },
     "execution_count": 91,
     "metadata": {},
     "output_type": "execute_result"
    }
   ],
   "source": [
    "\n",
    "url = '../data_for_lr.csv'\n",
    "data = pd.read_csv(url)\n",
    "data"
   ]
  },
  {
   "cell_type": "code",
   "execution_count": 92,
   "id": "0b2491c8",
   "metadata": {},
   "outputs": [],
   "source": [
    "\n",
    "# Drop the missing values\n",
    "data = data.dropna() # cleaning database"
   ]
  },
  {
   "cell_type": "markdown",
   "id": "2e55a936",
   "metadata": {},
   "source": [
    "Now we separete training datasets from testing datasets"
   ]
  },
  {
   "cell_type": "code",
   "execution_count": 93,
   "id": "d3b57c25",
   "metadata": {},
   "outputs": [],
   "source": [
    "train_input, test_input, train_output, test_output = train_test_split(data.x, data.y, test_size=0.3)\n",
    "train_input = train_input.to_frame()\n",
    "test_input = test_input.to_frame()"
   ]
  },
  {
   "cell_type": "markdown",
   "id": "095fefbb",
   "metadata": {},
   "source": [
    "Visualization of data "
   ]
  },
  {
   "cell_type": "code",
   "execution_count": 94,
   "id": "bddaac1c",
   "metadata": {},
   "outputs": [
    {
     "data": {
      "image/png": "[encoded data removed]",
      "text/plain": [
       "<Figure size 640x480 with 1 Axes>"
      ]
     },
     "metadata": {},
     "output_type": "display_data"
    }
   ],
   "source": [
    "plt.scatter(train_input, train_output, color='blue', marker='o')\n",
    "plt.xlabel('X-axis')\n",
    "plt.ylabel('Y-axis')\n",
    "plt.title('Scatter Plot of Points')\n",
    "plt.show()"
   ]
  },
  {
   "cell_type": "markdown",
   "id": "33ef463d",
   "metadata": {},
   "source": [
    "Training data and get predictions"
   ]
  },
  {
   "cell_type": "code",
   "execution_count": 95,
   "id": "0c1d624b",
   "metadata": {},
   "outputs": [
    {
     "data": {
      "text/plain": [
       "array([97.96434619, 48.92914862,  9.90113424, -0.10604894, 34.91909218,\n",
       "       42.92483872, 90.95931797, 57.93561348, 99.96578282, 43.92555704,\n",
       "       72.94638825, 31.91693722, 34.91909218, 56.93489517, 87.95716301,\n",
       "        6.89897928, 32.91765554, 78.95069815, 73.94710657, 19.90831741,\n",
       "       72.94638825,  5.89826097, 36.92052881, 72.94638825, 18.90759909,\n",
       "        4.89754265, 30.91621891,  3.89682433, 66.94207834, 18.90759909,\n",
       "       94.96219124, 71.94566993,  4.89754265, 26.91334564, 28.91478227,\n",
       "       13.90400751, 78.95069815, 22.91047237, 61.93848675, 43.92555704,\n",
       "       12.90328919, 74.94782488, 49.92986694, 18.90759909, 96.96362787,\n",
       "       41.9241204 , 44.92627535, 66.94207834, 49.92986694, 94.96219124,\n",
       "       35.91981049, 32.91765554, 24.911909  , 10.90185255, 20.90903573,\n",
       "       94.96219124, 11.90257087, 65.94136002, 24.911909  , 40.92340208,\n",
       "       76.94926152, 54.93345853, 49.92986694, 10.90185255, 47.92843031,\n",
       "        3.89682433, 76.94926152, 36.92052881, 96.96362787, 92.9607546 ,\n",
       "       97.96434619, 46.92771199, 55.93417685, 40.92340208,  9.90113424,\n",
       "       53.93274021, 90.95931797, -0.10604894, 13.90400751, 95.96290955,\n",
       "       57.93561348, 92.9607546 ,  1.89538769, 41.9241204 , 76.94926152,\n",
       "       48.92914862, 82.95357142, 98.96506451, 15.90544414, 63.93992339,\n",
       "       60.93776844, 55.93417685, 58.9363318 , 47.92843031, 70.94495161,\n",
       "       55.93417685, 40.92340208, 38.92196545,  7.8996976 , 60.93776844,\n",
       "       54.93345853, 11.90257087, 31.91693722, 26.91334564, 31.91693722,\n",
       "       48.92914862, 34.91909218, 97.96434619, 36.92052881, 56.93489517,\n",
       "       50.93058526, 53.93274021, 29.91550059, 20.90903573, 20.90903573,\n",
       "       71.94566993, 84.95500806, 83.95428974, 19.90831741,  7.8996976 ,\n",
       "       35.91981049, 59.93705012, 68.94351498,  7.8996976 , 77.94997984,\n",
       "       13.90400751, 57.93561348, 35.91981049, 14.90472582, 74.94782488,\n",
       "       25.91262732, 57.93561348, 92.9607546 , 98.96506451, 25.91262732,\n",
       "       13.90400751, 15.90544414, 69.9442333 , 46.92771199, 82.95357142,\n",
       "       64.94064171, 50.93058526, 38.92196545, 54.93345853, 98.96506451,\n",
       "       80.95213479, 88.95788133, 23.91119068,  9.90113424, 83.95428974,\n",
       "       59.93705012, 74.94782488, 38.92196545, 66.94207834, 70.94495161,\n",
       "       24.911909  , 49.92986694, 63.93992339, 69.9442333 , 43.92555704,\n",
       "       94.96219124,  7.8996976 ,  0.89466938, 73.94710657, 66.94207834,\n",
       "       67.94279666, 59.93705012,  6.89897928, 14.90472582, 67.94279666,\n",
       "       30.91621891, 53.93274021, 70.94495161, 82.95357142, 76.94926152,\n",
       "       41.9241204 , 23.91119068, 99.96578282, 93.96147292, 89.95859965,\n",
       "       85.95572638, 79.95141647, 96.96362787,  7.8996976 ,  6.89897928,\n",
       "       69.9442333 , 42.92483872, 91.96003628, 40.92340208, 64.94064171,\n",
       "       30.91621891, 85.95572638, 29.91550059, 74.94782488, 38.92196545,\n",
       "       90.95931797, 69.9442333 , 67.94279666, 14.90472582, 53.93274021,\n",
       "       41.9241204 , 88.95788133, 89.95859965, 12.90328919, 24.911909  ,\n",
       "       57.93561348, 44.92627535, 26.91334564, 69.9442333 , 74.94782488])"
      ]
     },
     "execution_count": 95,
     "metadata": {},
     "output_type": "execute_result"
    }
   ],
   "source": [
    "model = LinearRegression()\n",
    "model.fit(train_input, train_output)\n",
    "\n",
    "predictions = model.predict(test_input)\n",
    "predictions"
   ]
  },
  {
   "cell_type": "markdown",
   "id": "f76e485f",
   "metadata": {},
   "source": [
    "Evaluating Your Algorithm"
   ]
  },
  {
   "cell_type": "code",
   "execution_count": 96,
   "id": "a7de7a3f",
   "metadata": {},
   "outputs": [
    {
     "name": "stdout",
     "output_type": "stream",
     "text": [
      "Mean Absolute Error: 2.3627721469321377\n",
      "Mean Squared Error: 8.388682554111579\n",
      "Root Mean Squared Error: 2.8963222462480895\n"
     ]
    }
   ],
   "source": [
    "\n",
    "from sklearn.metrics import mean_absolute_error, mean_squared_error\n",
    "mae = mean_absolute_error(test_output, predictions)\n",
    "mse = mean_squared_error(test_output, predictions)\n",
    "rmse = np.sqrt(mse)\n",
    "\n",
    "print(\"Mean Absolute Error:\", mae)\n",
    "print(\"Mean Squared Error:\", mse)\n",
    "print(\"Root Mean Squared Error:\", rmse)"
   ]
  },
  {
   "cell_type": "markdown",
   "id": "8cc5bea7",
   "metadata": {
    "pycharm": {
     "name": "#%% md\n"
    }
   },
   "source": [
    "# Congratulations!\n",
    "In this lab you have learned:\n",
    " - Linear regression builds a model which establishes a relationship between features and targets\n",
    "     - for simple linear regression, the model has two parameters $w$ and $b$ whose values are 'fit' using *training data*.\n",
    "     - once a model's parameters have been determined, the model can be used to make predictions on novel data.\n",
    "    "
   ]
  }
 ],
 "metadata": {
  "kernelspec": {
   "display_name": "Python 3 (ipykernel)",
   "language": "python",
   "name": "python3"
  },
  "language_info": {
   "codemirror_mode": {
    "name": "ipython",
    "version": 3
   },
   "file_extension": ".py",
   "mimetype": "text/x-python",
   "name": "python",
   "nbconvert_exporter": "python",
   "pygments_lexer": "ipython3",
   "version": "3.12.2"
  },
  "toc-autonumbering": false
 },
 "nbformat": 4,
 "nbformat_minor": 5
}
